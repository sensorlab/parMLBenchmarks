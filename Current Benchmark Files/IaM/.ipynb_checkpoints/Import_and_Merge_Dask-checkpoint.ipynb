{
 "cells": [
  {
   "cell_type": "code",
   "execution_count": 1,
   "id": "772596ba",
   "metadata": {},
   "outputs": [],
   "source": [
    "import time\n",
    "\n",
    "from dask.distributed import Client, progress\n",
    "import dask.dataframe as dd\n",
    "import pandas as pd"
   ]
  },
  {
   "cell_type": "code",
   "execution_count": 2,
   "id": "63eeedbd",
   "metadata": {},
   "outputs": [],
   "source": [
    "file_name = \"C:/Users/Filip\\Desktop/zasluzbo/DASK/dejtafrejmi/emnist-digits-125000.csv\"\n",
    "threads = 8\n",
    "workers = 1\n",
    "mem_limit = '10G'"
   ]
  },
  {
   "cell_type": "code",
   "execution_count": null,
   "id": "f1608901",
   "metadata": {},
   "outputs": [],
   "source": [
    "client = Client(threads_per_worker=threads,\n",
    "                n_workers=workers, memory_limit=mem_limit)\n",
    "client"
   ]
  },
  {
   "cell_type": "code",
   "execution_count": null,
   "id": "ac1f9cb3",
   "metadata": {
    "scrolled": true
   },
   "outputs": [],
   "source": [
    "for i in range(5):\n",
    "    print(\"----------\")\n",
    "    start_time = time.time()\n",
    "    data1 = dd.read_csv(file_name)\n",
    "    data2 = dd.read_csv(file_name)\n",
    "    print(\"--- %s seconds ---\" % (time.time() - start_time))\n",
    "    \n",
    "    start_time = time.time()\n",
    "    result = dd.concat([data1, data2], ignore_index=True)\n",
    "    print(\"--- %s seconds ---\" % (time.time() - start_time))\n",
    "\n",
    "    start_time = time.time()\n",
    "    result = result.compute()\n",
    "    print(\"--- %s seconds ---\" % (time.time() - start_time))\n",
    "    print(\"----------\")\n"
   ]
  },
  {
   "cell_type": "markdown",
   "id": "ed632e2f",
   "metadata": {},
   "source": [
    "# SETOP TEST AND NOTIFY USER"
   ]
  },
  {
   "cell_type": "code",
   "execution_count": null,
   "id": "4c148aa3",
   "metadata": {},
   "outputs": [],
   "source": [
    "client.close()\n",
    "def notification(frequency=200, length=1):\n",
    "    global sound\n",
    "    import IPython.display as ipd\n",
    "    import numpy as np \n",
    "    beep = np.sin(np.pi*frequency*np.arange(10000*length)/10000)\n",
    "    sound = ipd.Audio(beep, rate=10000, autoplay=True)\n",
    "    return sound\n",
    "\n",
    "notification()"
   ]
  }
 ],
 "metadata": {
  "kernelspec": {
   "display_name": "Python 3",
   "language": "python",
   "name": "python3"
  },
  "language_info": {
   "codemirror_mode": {
    "name": "ipython",
    "version": 3
   },
   "file_extension": ".py",
   "mimetype": "text/x-python",
   "name": "python",
   "nbconvert_exporter": "python",
   "pygments_lexer": "ipython3",
   "version": "3.8.8"
  }
 },
 "nbformat": 4,
 "nbformat_minor": 5
}
