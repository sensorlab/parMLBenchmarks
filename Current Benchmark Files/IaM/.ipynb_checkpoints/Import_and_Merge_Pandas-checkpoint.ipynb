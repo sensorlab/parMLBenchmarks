{
 "cells": [
  {
   "cell_type": "code",
   "execution_count": 1,
   "id": "3fa0fe14",
   "metadata": {},
   "outputs": [],
   "source": [
    "import time\n",
    "import pandas as pd"
   ]
  },
  {
   "cell_type": "code",
   "execution_count": 2,
   "id": "729d3977",
   "metadata": {},
   "outputs": [],
   "source": [
    "file_name = \"C:/Users/zevni/Desktop/JSI/dejtafrejmi/emnist-digits-25000.csv\""
   ]
  },
  {
   "cell_type": "code",
   "execution_count": null,
   "id": "bad9a0db",
   "metadata": {
    "scrolled": true
   },
   "outputs": [],
   "source": [
    "for i in range(5):\n",
    "    print(\"----------\")\n",
    "    start_time = time.time()\n",
    "    data_1 = pd.read_csv(file_name)\n",
    "    data_2 = pd.read_csv(file_name)\n",
    "    print(\"--- %s seconds ---\" % (time.time() - start_time))\n",
    "    \n",
    "    start_time = time.time()\n",
    "    data = pd.concat([data_1, data_2], ignore_index=True)\n",
    "    print(\"--- %s seconds ---\" % (time.time() - start_time))\n",
    "    print(\"----------\")"
   ]
  },
  {
   "cell_type": "markdown",
   "id": "3f4caf19",
   "metadata": {},
   "source": [
    "# SETOP TEST AND NOTIFY USER"
   ]
  },
  {
   "cell_type": "code",
   "execution_count": null,
   "id": "1975c409",
   "metadata": {},
   "outputs": [],
   "source": [
    "def notification(frequency=200, length=1):\n",
    "    global sound\n",
    "    import IPython.display as ipd\n",
    "    import numpy as np \n",
    "    beep = np.sin(np.pi*frequency*np.arange(10000*length)/10000)\n",
    "    sound = ipd.Audio(beep, rate=10000, autoplay=True)\n",
    "    return sound\n",
    "\n",
    "notification()"
   ]
  }
 ],
 "metadata": {
  "kernelspec": {
   "display_name": "Python 3",
   "language": "python",
   "name": "python3"
  },
  "language_info": {
   "codemirror_mode": {
    "name": "ipython",
    "version": 3
   },
   "file_extension": ".py",
   "mimetype": "text/x-python",
   "name": "python",
   "nbconvert_exporter": "python",
   "pygments_lexer": "ipython3",
   "version": "3.8.8"
  }
 },
 "nbformat": 4,
 "nbformat_minor": 5
}
