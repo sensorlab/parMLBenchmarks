{
 "cells": [
  {
   "cell_type": "code",
   "execution_count": 1,
   "id": "835a80d9",
   "metadata": {},
   "outputs": [],
   "source": [
    "import time\n",
    "from sklearn.tree import DecisionTreeClassifier\n",
    "import numpy as np\n",
    "import pandas as pd\n",
    "from sklearn.metrics import classification_report"
   ]
  },
  {
   "cell_type": "markdown",
   "id": "fe0b98ae",
   "metadata": {},
   "source": [
    "# SETUP DATA"
   ]
  },
  {
   "cell_type": "code",
   "execution_count": 2,
   "id": "53f8a74b",
   "metadata": {},
   "outputs": [],
   "source": [
    "data_amount = 250000\n",
    "train_amount = int(data_amount*0.8)\n",
    "test_amount = int(data_amount*0.2)"
   ]
  },
  {
   "cell_type": "code",
   "execution_count": null,
   "id": "b403c3c9",
   "metadata": {},
   "outputs": [],
   "source": [
    "data = pd.read_csv(\"C:/Users/Filip/Desktop/zasluzbo/EMNIST/emnist-digits-train.csv\")"
   ]
  },
  {
   "cell_type": "code",
   "execution_count": null,
   "id": "02c64a7d",
   "metadata": {},
   "outputs": [],
   "source": [
    "arr_train = data.to_numpy()\n",
    "arr_train  = np.concatenate((arr_train,arr_train),axis=0)\n",
    "\n",
    "arr_test_label = arr_train[0:train_amount, 0]\n",
    "arr_test_value = arr_train[0:train_amount, 1:]\n",
    "\n",
    "arr_train_label = arr_train[train_amount:train_amount+test_amount, 0]\n",
    "arr_train_value = arr_train[train_amount:train_amount+test_amount, 1:]"
   ]
  },
  {
   "cell_type": "markdown",
   "id": "5b4b0e44",
   "metadata": {},
   "source": [
    "# START TEST"
   ]
  },
  {
   "cell_type": "code",
   "execution_count": null,
   "id": "70c0f75d",
   "metadata": {},
   "outputs": [],
   "source": [
    "for i in range(5):\n",
    "    start_time = time.time()\n",
    "    clf = DecisionTreeClassifier()\n",
    "    clf.fit(arr_train_value, arr_train_label)\n",
    "    predictions = clf.predict(arr_test_value)\n",
    "    print(classification_report(arr_test_label, predictions))\n",
    "    print(\"--- %s seconds ---\" % (time.time() - start_time))"
   ]
  },
  {
   "cell_type": "markdown",
   "id": "d56d8e32",
   "metadata": {},
   "source": [
    "# STOP TEST"
   ]
  },
  {
   "cell_type": "code",
   "execution_count": null,
   "id": "22997159",
   "metadata": {},
   "outputs": [],
   "source": [
    "def notification(frequency=200, length=5):\n",
    "    global sound\n",
    "    import IPython.display as ipd\n",
    "    import numpy as np \n",
    "    beep = np.sin(np.pi*frequency*np.arange(10000*length)/10000)\n",
    "    sound = ipd.Audio(beep, rate=10000, autoplay=True)\n",
    "    return sound\n",
    "\n",
    "notification()"
   ]
  }
 ],
 "metadata": {
  "kernelspec": {
   "display_name": "Python 3",
   "language": "python",
   "name": "python3"
  },
  "language_info": {
   "codemirror_mode": {
    "name": "ipython",
    "version": 3
   },
   "file_extension": ".py",
   "mimetype": "text/x-python",
   "name": "python",
   "nbconvert_exporter": "python",
   "pygments_lexer": "ipython3",
   "version": "3.8.8"
  }
 },
 "nbformat": 4,
 "nbformat_minor": 5
}
