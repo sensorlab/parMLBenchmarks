{
 "cells": [
  {
   "cell_type": "code",
   "execution_count": 1,
   "id": "fb203a3b",
   "metadata": {},
   "outputs": [],
   "source": [
    "import time\n",
    "\n",
    "from dask.distributed import Client, progress\n",
    "from sklearn.tree import DecisionTreeClassifier\n",
    "import dask.dataframe as dd\n",
    "from sklearn.utils import parallel_backend\n",
    "from sklearn.metrics import classification_report\n",
    "\n",
    "import numpy as np\n",
    "import pandas as pd"
   ]
  },
  {
   "cell_type": "code",
   "execution_count": null,
   "id": "19708b20",
   "metadata": {},
   "outputs": [],
   "source": [
    "threads = 1\n",
    "workers = 8\n",
    "mem_limit = '1.25G'\n",
    "\n",
    "data_amount = 250000\n",
    "train_amount = int(data_amount * 0.8)\n",
    "test_amount =int(data_amount * 0.2)\n",
    "\n",
    "print(train_amount)\n",
    "print(test_amount)"
   ]
  },
  {
   "cell_type": "code",
   "execution_count": null,
   "id": "8abb9644",
   "metadata": {},
   "outputs": [],
   "source": [
    "client = Client(threads_per_worker=threads,\n",
    "                n_workers=workers, memory_limit=mem_limit)\n",
    "client"
   ]
  },
  {
   "cell_type": "code",
   "execution_count": 4,
   "id": "fea54981",
   "metadata": {},
   "outputs": [],
   "source": [
    "#client.close()"
   ]
  },
  {
   "cell_type": "markdown",
   "id": "5ece2d91",
   "metadata": {},
   "source": [
    "# SETUP DATA"
   ]
  },
  {
   "cell_type": "code",
   "execution_count": 7,
   "id": "a3b1e51f",
   "metadata": {},
   "outputs": [],
   "source": [
    "data = dd.read_csv(\"C:/Users/zevni/Desktop/JSI/EMNIST/emnist-digits-train.csv\")"
   ]
  },
  {
   "cell_type": "code",
   "execution_count": 8,
   "id": "81791e73",
   "metadata": {
    "scrolled": true
   },
   "outputs": [],
   "source": [
    "data_arr = data.to_dask_array(lengths=True)\n",
    "data_arr = np.concatenate((data_arr, data_arr),axis=0)"
   ]
  },
  {
   "cell_type": "code",
   "execution_count": 9,
   "id": "04ae5194",
   "metadata": {},
   "outputs": [],
   "source": [
    "data_arr = data_arr.astype(\"ushort\")"
   ]
  },
  {
   "cell_type": "code",
   "execution_count": 10,
   "id": "97e6a6a0",
   "metadata": {},
   "outputs": [],
   "source": [
    "xtrain = data_arr[0:train_amount, 1:]\n",
    "train_label = data_arr[0:train_amount, 0]\n",
    "\n",
    "xtest = data_arr[train_amount:train_amount + test_amount, 1:]\n",
    "test_label = data_arr[train_amount:train_amount + test_amount, 0] "
   ]
  },
  {
   "cell_type": "markdown",
   "id": "840b840c",
   "metadata": {},
   "source": [
    "# START TEST"
   ]
  },
  {
   "cell_type": "code",
   "execution_count": null,
   "id": "c00cc888",
   "metadata": {},
   "outputs": [],
   "source": [
    "for i in range(5):\n",
    "    start_time = time.time()\n",
    "    \n",
    "    clf =  DecisionTreeClassifier(max_depth=5)\n",
    "    \n",
    "    with parallel_backend('dask'):\n",
    "        clf.fit(xtrain, train_label)\n",
    "        predictions = clf.predict(xtest)\n",
    "    \n",
    "    print(classification_report(test_label, predictions))\n",
    "    \n",
    "    print(\"--- %s seconds ---\" % (time.time() - start_time))\n"
   ]
  },
  {
   "cell_type": "markdown",
   "id": "d7f99491",
   "metadata": {},
   "source": [
    "# END TEST"
   ]
  },
  {
   "cell_type": "code",
   "execution_count": null,
   "id": "8db90a3d",
   "metadata": {},
   "outputs": [],
   "source": [
    "client.close()\n",
    "def notification(frequency=200, length=5):\n",
    "    global sound\n",
    "    import IPython.display as ipd\n",
    "    import numpy as np \n",
    "    beep = np.sin(np.pi*frequency*np.arange(10000*length)/10000)\n",
    "    sound = ipd.Audio(beep, rate=10000, autoplay=True)\n",
    "    return sound\n",
    "\n",
    "notification()"
   ]
  },
  {
   "cell_type": "code",
   "execution_count": null,
   "id": "1618914e",
   "metadata": {},
   "outputs": [],
   "source": [
    "#client.close()"
   ]
  }
 ],
 "metadata": {
  "kernelspec": {
   "display_name": "Python 3",
   "language": "python",
   "name": "python3"
  },
  "language_info": {
   "codemirror_mode": {
    "name": "ipython",
    "version": 3
   },
   "file_extension": ".py",
   "mimetype": "text/x-python",
   "name": "python",
   "nbconvert_exporter": "python",
   "pygments_lexer": "ipython3",
   "version": "3.8.8"
  }
 },
 "nbformat": 4,
 "nbformat_minor": 5
}
