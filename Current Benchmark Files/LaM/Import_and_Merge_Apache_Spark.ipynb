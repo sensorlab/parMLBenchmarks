{
 "cells": [
  {
   "cell_type": "markdown",
   "id": "bd58d223",
   "metadata": {},
   "source": [
    "# SETUP SPARK"
   ]
  },
  {
   "cell_type": "code",
   "execution_count": 1,
   "id": "31039c7a",
   "metadata": {},
   "outputs": [],
   "source": [
    "import time\n",
    "\n",
    "import findspark\n",
    "import pyspark\n",
    "from pyspark.sql import SparkSession\n",
    "from pyspark.sql.types import ShortType\n",
    "from pyspark.sql.functions import col"
   ]
  },
  {
   "cell_type": "code",
   "execution_count": 2,
   "id": "e7054df0",
   "metadata": {},
   "outputs": [],
   "source": [
    "file_name = \"C:/Users/Filip\\Desktop/zasluzbo/EMNIST/emnist-digits-train.csv\"\n",
    "data_amount = 25000 #<-- tle izberes polovico seta"
   ]
  },
  {
   "cell_type": "code",
   "execution_count": 3,
   "id": "28a6ba84",
   "metadata": {},
   "outputs": [],
   "source": [
    "findspark.init(\"C:\\spark\")\n",
    "spark = SparkSession.builder.master(\"spark://10.0.2.15:7077\").config(\"spark.executor.memory\", \"8g\").config(\"spark.driver.memory\", \"2g\").getOrCreate()"
   ]
  },
  {
   "cell_type": "markdown",
   "id": "5bb0325a",
   "metadata": {},
   "source": [
    "# START TEST"
   ]
  },
  {
   "cell_type": "code",
   "execution_count": null,
   "id": "77bd91c1",
   "metadata": {
    "scrolled": false
   },
   "outputs": [],
   "source": [
    "for i in range(5):\n",
    "    print(\"----------\")\n",
    "    start_time = time.time()\n",
    "    data_a = spark.read.csv(file_name, inferSchema=True).limit(data_amount)\n",
    "    data_b = spark.read.csv(file_name, inferSchema=True).limit(data_amount)\n",
    "    print(\"--- %s seconds ---\" % (time.time() - start_time))\n",
    "    \n",
    "    start_time = time.time()\n",
    "    data_a = data_a.select([col(c).cast(ShortType()) for c in data_a.columns])\n",
    "    data_b = data_b.select([col(c).cast(ShortType()) for c in data_b.columns])\n",
    "    print(\"--- %s seconds ---\" % (time.time() - start_time))\n",
    "    \n",
    "\n",
    "    start_time = time.time()\n",
    "    data = data_a.union(data_b) #tle sm zamenu .unionAll() z .union()\n",
    "    print(\"--- %s seconds ---\" % (time.time() - start_time))\n",
    "\n",
    "    start_time = time.time()\n",
    "    data = data.toPandas()\n",
    "    print(\"--- %s seconds ---\" % (time.time() - start_time))\n",
    "    print(\"----------\")"
   ]
  },
  {
   "cell_type": "markdown",
   "id": "152a49ab",
   "metadata": {},
   "source": [
    "# SETOP TEST AND NOTIFY USER"
   ]
  },
  {
   "cell_type": "code",
   "execution_count": null,
   "id": "ba1e5b2a",
   "metadata": {},
   "outputs": [],
   "source": [
    "spark.stop()\n",
    "def notification(frequency=200, leng89th=5):\n",
    "    global sound\n",
    "    import IPython.display as ipd\n",
    "    import numpy as np \n",
    "    beep = np.sin(np.pi*frequency*np.arange(10000*length)/10000)\n",
    "    sound = ipd.Audio(beep, rate=10000, autoplay=True)\n",
    "    return sound\n",
    "\n",
    "notification()"
   ]
  },
  {
   "cell_type": "code",
   "execution_count": 5,
   "id": "266f4a99",
   "metadata": {},
   "outputs": [],
   "source": [
    "spark.stop()"
   ]
  }
 ],
 "metadata": {
  "kernelspec": {
   "display_name": "Python 3",
   "language": "python",
   "name": "python3"
  },
  "language_info": {
   "codemirror_mode": {
    "name": "ipython",
    "version": 3
   },
   "file_extension": ".py",
   "mimetype": "text/x-python",
   "name": "python",
   "nbconvert_exporter": "python",
   "pygments_lexer": "ipython3",
   "version": "3.8.8"
  }
 },
 "nbformat": 4,
 "nbformat_minor": 5
}
