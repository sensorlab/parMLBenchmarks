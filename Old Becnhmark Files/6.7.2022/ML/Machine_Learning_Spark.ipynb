{
 "cells": [
  {
   "cell_type": "markdown",
   "id": "7d1ee1a8",
   "metadata": {},
   "source": [
    "# SETUP THE DATA"
   ]
  },
  {
   "cell_type": "code",
   "execution_count": 10,
   "id": "e62e3f77",
   "metadata": {},
   "outputs": [],
   "source": [
    "import time\n",
    "\n",
    "\n",
    "import findspark\n",
    "import pyspark\n",
    "from pyspark.sql import SparkSession\n",
    "from pyspark.ml.feature import VectorAssembler\n",
    "from pyspark.sql import Row\n",
    "from pyspark.ml.classification import DecisionTreeClassifier\n",
    "from pyspark.ml.evaluation import MulticlassClassificationEvaluator\n",
    "from pyspark.sql.types import ShortType\n",
    "from pyspark.sql.functions import col"
   ]
  },
  {
   "cell_type": "code",
   "execution_count": 2,
   "id": "26ebfd46",
   "metadata": {},
   "outputs": [],
   "source": [
    "data_amount = 25000\n",
    "train_amount = int(data_amount * 0.8)\n",
    "test_amount = int(data_amount * 0.2)"
   ]
  },
  {
   "cell_type": "code",
   "execution_count": 3,
   "id": "73f98ecb",
   "metadata": {},
   "outputs": [
    {
     "name": "stdout",
     "output_type": "stream",
     "text": [
      "20000\n",
      "5000\n"
     ]
    }
   ],
   "source": [
    "print(train_amount)\n",
    "print(test_amount)"
   ]
  },
  {
   "cell_type": "code",
   "execution_count": 4,
   "id": "9b5c6748",
   "metadata": {},
   "outputs": [],
   "source": [
    "findspark.init(\"C:\\spark\")\n",
    "spark = SparkSession.builder.master(\"spark://10.0.2.15:7077\").appName(\"Spark Windows 10\").config(\"spark.executor.memory\", \"8g\").config(\"spark.driver.memory\", \"2g\").getOrCreate()"
   ]
  },
  {
   "cell_type": "code",
   "execution_count": 5,
   "id": "d1bc3b8f",
   "metadata": {},
   "outputs": [],
   "source": [
    "data_train = spark.read.csv(\"C:/Users/Filip/Desktop/zasluzbo/EMNIST/emnist-digits-train.csv\", inferSchema=True).limit(train_amount)\n",
    "data_test = spark.read.csv(\"C:/Users/Filip/Desktop/zasluzbo/EMNIST/emnist-mnist-train.csv\", inferSchema=True).limit(test_amount)"
   ]
  },
  {
   "cell_type": "code",
   "execution_count": 11,
   "id": "fae925aa",
   "metadata": {},
   "outputs": [],
   "source": [
    "data_train = data_train.select([col(c).cast(ShortType()) for c in data_train.columns])\n",
    "data_test = data_test.select([col(c).cast(ShortType()) for c in data_test.columns])"
   ]
  },
  {
   "cell_type": "code",
   "execution_count": 12,
   "id": "9f408e74",
   "metadata": {},
   "outputs": [],
   "source": [
    "feature_columns = data_train.columns[1:]\n",
    "assembler = VectorAssembler(inputCols=feature_columns, outputCol=\"features\")\n",
    "data_train_2 = assembler.transform(data_train)\n",
    "\n",
    "feature_columns = data_test.columns[1:]\n",
    "assembler = VectorAssembler(inputCols=feature_columns, outputCol=\"features\")\n",
    "data_test_2 = assembler.transform(data_test)"
   ]
  },
  {
   "cell_type": "code",
   "execution_count": 13,
   "id": "db7acfc2",
   "metadata": {},
   "outputs": [],
   "source": [
    "#spark.stop()"
   ]
  },
  {
   "cell_type": "markdown",
   "id": "bb96bdf0",
   "metadata": {},
   "source": [
    "# START TRAINING"
   ]
  },
  {
   "cell_type": "code",
   "execution_count": null,
   "id": "a86d87af",
   "metadata": {},
   "outputs": [],
   "source": [
    "for i in range(5):\n",
    "    start_time = time.time()\n",
    "\n",
    "    algo = DecisionTreeClassifier(featuresCol=\"features\", labelCol=\"_c0\")\n",
    "    model = algo.fit(data_train_2)\n",
    "\n",
    "    predictions = model.transform(data_test_2)\n",
    "\n",
    "    evaluator = MulticlassClassificationEvaluator(predictionCol=\"prediction\", labelCol=\"_c0\")\n",
    "    accuracy = evaluator.evaluate(predictions)\n",
    "    print(\"This is F1: \")\n",
    "    print(accuracy)\n",
    "    print(\"--- %s seconds ---\" % (time.time() - start_time))\n"
   ]
  },
  {
   "cell_type": "markdown",
   "id": "52f2d651",
   "metadata": {},
   "source": [
    "# STOP SPARK AND NOTIFY USER"
   ]
  },
  {
   "cell_type": "code",
   "execution_count": null,
   "id": "660bee36",
   "metadata": {},
   "outputs": [],
   "source": [
    "spark.stop()\n",
    "def notification(frequency=200, length=5):\n",
    "    global sound\n",
    "    import IPython.display as ipd\n",
    "    import numpy as np \n",
    "    beep = np.sin(np.pi*frequency*np.arange(10000*length)/10000)\n",
    "    sound = ipd.Audio(beep, rate=10000, autoplay=True)\n",
    "    return sound\n",
    "\n",
    "notification()"
   ]
  }
 ],
 "metadata": {
  "kernelspec": {
   "display_name": "Python 3",
   "language": "python",
   "name": "python3"
  },
  "language_info": {
   "codemirror_mode": {
    "name": "ipython",
    "version": 3
   },
   "file_extension": ".py",
   "mimetype": "text/x-python",
   "name": "python",
   "nbconvert_exporter": "python",
   "pygments_lexer": "ipython3",
   "version": "3.8.8"
  }
 },
 "nbformat": 4,
 "nbformat_minor": 5
}
